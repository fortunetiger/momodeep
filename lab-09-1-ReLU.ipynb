{
 "cells": [
  {
   "cell_type": "markdown",
   "metadata": {},
   "source": [
    "# Lab 09-1. ReLU"
   ]
  },
  {
   "cell_type": "code",
   "execution_count": 4,
   "metadata": {},
   "outputs": [],
   "source": [
    "import torch\n",
    "import torchvision.datasets as datasets\n",
    "import torchvision.transforms as transforms\n",
    "\n",
    "device = 'cuda:0' if torch.cuda.is_available() else 'cpu'"
   ]
  },
  {
   "cell_type": "code",
   "execution_count": 3,
   "metadata": {},
   "outputs": [],
   "source": [
    "mnist_train = datasets.MNIST(root='MNIST_data/',\n",
    "                             train=True,\n",
    "                             transform=transforms.ToTensor(),\n",
    "                             download=True)\n",
    "\n",
    "mnist_test  = datasets.MNIST(root='MNIST_data/',\n",
    "                             train=True,\n",
    "                             transform=transforms.ToTensor(),\n",
    "                             download=True)"
   ]
  },
  {
   "cell_type": "code",
   "execution_count": 41,
   "metadata": {},
   "outputs": [],
   "source": [
    "# params\n",
    "learning_rate = 1e-3\n",
    "training_epochs = 15\n",
    "batch_size = 100"
   ]
  },
  {
   "cell_type": "code",
   "execution_count": 42,
   "metadata": {},
   "outputs": [],
   "source": [
    "data_loader = torch.utils.data.DataLoader(dataset=mnist_train,\n",
    "                                          batch_size=batch_size,\n",
    "                                          shuffle=True,\n",
    "                                          drop_last=True)"
   ]
  },
  {
   "cell_type": "code",
   "execution_count": 43,
   "metadata": {},
   "outputs": [],
   "source": [
    "linear = torch.nn.Linear(784, 10, bias=True).to(device)"
   ]
  },
  {
   "cell_type": "code",
   "execution_count": 44,
   "metadata": {},
   "outputs": [
    {
     "data": {
      "text/plain": [
       "Parameter containing:\n",
       "tensor([[ 0.9505, -1.2699, -0.0229,  ...,  0.3343,  0.3583,  1.1160],\n",
       "        [ 2.4772,  0.6823,  1.1020,  ...,  0.9371,  0.4162, -0.4941],\n",
       "        [-0.1913,  0.9289, -0.0402,  ...,  0.0185, -0.2606, -0.0764],\n",
       "        ...,\n",
       "        [ 1.7489, -0.5190,  1.4516,  ...,  0.5157, -0.0722, -1.9007],\n",
       "        [-0.0261, -0.3522,  0.2341,  ..., -0.0674, -0.6697,  1.9234],\n",
       "        [ 0.5143, -1.3833,  0.4164,  ...,  1.1781, -1.4442,  0.5193]],\n",
       "       device='cuda:0', requires_grad=True)"
      ]
     },
     "execution_count": 44,
     "metadata": {},
     "output_type": "execute_result"
    }
   ],
   "source": [
    "torch.nn.init.normal_(linear.weight)"
   ]
  },
  {
   "cell_type": "code",
   "execution_count": 45,
   "metadata": {},
   "outputs": [],
   "source": [
    "criterion = torch.nn.CrossEntropyLoss().to(device)\n",
    "optimizer = torch.optim.Adam(linear.parameters(), lr=learning_rate)"
   ]
  },
  {
   "cell_type": "code",
   "execution_count": 46,
   "metadata": {},
   "outputs": [
    {
     "name": "stdout",
     "output_type": "stream",
     "text": [
      "Epoch:    1, Cost: 5.337009430\n",
      "Epoch:    2, Cost: 1.718896270\n",
      "Epoch:    3, Cost: 1.152177215\n",
      "Epoch:    4, Cost: 0.917080820\n",
      "Epoch:    5, Cost: 0.781399727\n",
      "Epoch:    6, Cost: 0.690330446\n",
      "Epoch:    7, Cost: 0.624062300\n",
      "Epoch:    8, Cost: 0.574122131\n",
      "Epoch:    9, Cost: 0.534905255\n",
      "Epoch:   10, Cost: 0.503343880\n",
      "Epoch:   11, Cost: 0.477478117\n",
      "Epoch:   12, Cost: 0.456174284\n",
      "Epoch:   13, Cost: 0.438173234\n",
      "Epoch:   14, Cost: 0.422445685\n",
      "Epoch:   15, Cost: 0.408952713\n"
     ]
    }
   ],
   "source": [
    "total_batch = len(data_loader)\n",
    "\n",
    "for epoch in range(training_epochs):\n",
    "    \n",
    "    avg_cost = 0\n",
    "\n",
    "    for X, Y in data_loader:\n",
    "        X = X.view(-1, 28*28).to(device)\n",
    "        Y = Y.to(device)\n",
    "\n",
    "        optimizer.zero_grad()\n",
    "        hypothesis = linear(X)\n",
    "        cost = criterion(hypothesis, Y)\n",
    "        cost.backward()\n",
    "        optimizer.step()\n",
    "\n",
    "        avg_cost += cost / total_batch\n",
    "\n",
    "    print(f'Epoch: {epoch+1:4d}, Cost: {avg_cost:.9f}')"
   ]
  },
  {
   "cell_type": "markdown",
   "metadata": {},
   "source": [
    "**MNIST-nn**"
   ]
  },
  {
   "cell_type": "code",
   "execution_count": 48,
   "metadata": {},
   "outputs": [],
   "source": [
    "# params\n",
    "learning_rate = 1e-3\n",
    "training_epochs = 15\n",
    "batch_size = 100"
   ]
  },
  {
   "cell_type": "code",
   "execution_count": 47,
   "metadata": {},
   "outputs": [],
   "source": [
    "# MNIST data image of shape 28*28 = 784\n",
    "linear1 = torch.nn.Linear(784, 256, bias=True).to(device)\n",
    "linear2 = torch.nn.Linear(256, 256, bias=True).to(device)\n",
    "linear3 = torch.nn.Linear(256,  10, bias=True).to(device)\n",
    "relu    = torch.nn.ReLU()"
   ]
  },
  {
   "cell_type": "code",
   "execution_count": 49,
   "metadata": {},
   "outputs": [
    {
     "data": {
      "text/plain": [
       "Parameter containing:\n",
       "tensor([[-2.0372, -0.2497, -1.5729,  ...,  2.4641,  0.3609,  1.2820],\n",
       "        [-0.5805,  0.5495, -0.4897,  ...,  1.0120, -0.5023, -0.7381],\n",
       "        [ 0.1537, -1.4653, -0.8563,  ..., -0.4827,  0.0571, -1.1982],\n",
       "        ...,\n",
       "        [-1.8998,  0.3331, -0.1535,  ..., -1.0352, -1.3676, -0.0853],\n",
       "        [-0.3120,  0.5362,  0.3797,  ..., -1.9267, -1.3723,  0.0134],\n",
       "        [-0.3590,  0.4960, -0.6871,  ..., -0.1143,  0.7485,  2.4223]],\n",
       "       device='cuda:0', requires_grad=True)"
      ]
     },
     "execution_count": 49,
     "metadata": {},
     "output_type": "execute_result"
    }
   ],
   "source": [
    "# initialization\n",
    "torch.nn.init.normal_(linear1.weight)\n",
    "torch.nn.init.normal_(linear2.weight)\n",
    "torch.nn.init.normal_(linear3.weight)"
   ]
  },
  {
   "cell_type": "code",
   "execution_count": 50,
   "metadata": {},
   "outputs": [],
   "source": [
    "model = torch.nn.Sequential(linear1, relu, linear2, relu, linear3).to(device)"
   ]
  },
  {
   "cell_type": "code",
   "execution_count": 51,
   "metadata": {},
   "outputs": [],
   "source": [
    "criterion = torch.nn.CrossEntropyLoss().to(device)\n",
    "optimizer = torch.optim.Adam(model.parameters(), lr=learning_rate)"
   ]
  },
  {
   "cell_type": "code",
   "execution_count": 52,
   "metadata": {},
   "outputs": [
    {
     "name": "stdout",
     "output_type": "stream",
     "text": [
      "Epoch:    1, Cost: 183.136550903\n",
      "Epoch:    2, Cost: 39.702224731\n",
      "Epoch:    3, Cost: 24.749973297\n",
      "Epoch:    4, Cost: 17.281976700\n",
      "Epoch:    5, Cost: 12.607437134\n",
      "Epoch:    6, Cost: 9.319142342\n",
      "Epoch:    7, Cost: 7.002557755\n",
      "Epoch:    8, Cost: 5.305476665\n",
      "Epoch:    9, Cost: 3.941078901\n",
      "Epoch:   10, Cost: 3.000597239\n",
      "Epoch:   11, Cost: 2.382664919\n",
      "Epoch:   12, Cost: 1.735684037\n",
      "Epoch:   13, Cost: 1.349353790\n",
      "Epoch:   14, Cost: 1.118390441\n",
      "Epoch:   15, Cost: 0.863649309\n"
     ]
    }
   ],
   "source": [
    "total_batch = len(data_loader)\n",
    "\n",
    "for epoch in range(training_epochs):\n",
    "    \n",
    "    avg_cost = 0\n",
    "\n",
    "    for X, Y in data_loader:\n",
    "        X = X.view(-1, 28*28).to(device)\n",
    "        Y = Y.to(device)\n",
    "\n",
    "        optimizer.zero_grad()\n",
    "        hypothesis = model(X)\n",
    "        cost = criterion(hypothesis, Y)\n",
    "        cost.backward()\n",
    "        optimizer.step()\n",
    "\n",
    "        avg_cost += cost / total_batch\n",
    "\n",
    "    print(f'Epoch: {epoch+1:4d}, Cost: {avg_cost:.9f}')"
   ]
  }
 ],
 "metadata": {
  "kernelspec": {
   "display_name": "Python 3.8.10 64-bit",
   "language": "python",
   "name": "python3"
  },
  "language_info": {
   "codemirror_mode": {
    "name": "ipython",
    "version": 3
   },
   "file_extension": ".py",
   "mimetype": "text/x-python",
   "name": "python",
   "nbconvert_exporter": "python",
   "pygments_lexer": "ipython3",
   "version": "3.8.10"
  },
  "orig_nbformat": 4,
  "vscode": {
   "interpreter": {
    "hash": "e7370f93d1d0cde622a1f8e1c04877d8463912d04d973331ad4851f04de6915a"
   }
  }
 },
 "nbformat": 4,
 "nbformat_minor": 2
}
