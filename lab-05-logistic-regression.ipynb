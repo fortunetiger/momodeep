{
 "cells": [
  {
   "cell_type": "markdown",
   "id": "df01018f",
   "metadata": {},
   "source": [
    "# Lab 05. Logistic Regression"
   ]
  },
  {
   "cell_type": "code",
   "execution_count": 2,
   "id": "e55ead86",
   "metadata": {},
   "outputs": [],
   "source": [
    "# imports\n",
    "import torch\n",
    "import torch.nn as nn\n",
    "import torch.nn.functional as F\n",
    "import torch.optim as optim"
   ]
  },
  {
   "cell_type": "code",
   "execution_count": 3,
   "id": "99bf49ef",
   "metadata": {},
   "outputs": [
    {
     "data": {
      "text/plain": [
       "<torch._C.Generator at 0x7fd83c1b4db0>"
      ]
     },
     "execution_count": 3,
     "metadata": {},
     "output_type": "execute_result"
    }
   ],
   "source": [
    "# for reproducibility\n",
    "torch.manual_seed(1)"
   ]
  },
  {
   "cell_type": "code",
   "execution_count": 4,
   "id": "216dd69d",
   "metadata": {},
   "outputs": [],
   "source": [
    "# training data\n",
    "x_data = [[1, 2], [2, 3], [3, 1], [4, 3], [5, 3], [6, 2]] # (6, 2)\n",
    "y_data = [[0], [0], [0], [1], [1], [1]] #(6,)"
   ]
  },
  {
   "cell_type": "code",
   "execution_count": 5,
   "id": "1ce89ae5",
   "metadata": {},
   "outputs": [],
   "source": [
    "x_train = torch.FloatTensor(x_data)\n",
    "y_train = torch.FloatTensor(y_data)"
   ]
  },
  {
   "cell_type": "code",
   "execution_count": 6,
   "id": "e729e87a",
   "metadata": {},
   "outputs": [
    {
     "name": "stdout",
     "output_type": "stream",
     "text": [
      "torch.Size([6, 2])\n",
      "torch.Size([6, 1])\n"
     ]
    }
   ],
   "source": [
    "print(x_train.shape)\n",
    "print(y_train.shape)"
   ]
  },
  {
   "cell_type": "markdown",
   "id": "cf638f93",
   "metadata": {},
   "source": [
    "PyTorch has a `torch.exp()` function that resembles the exponential function."
   ]
  },
  {
   "cell_type": "code",
   "execution_count": 8,
   "id": "9e464a76",
   "metadata": {},
   "outputs": [
    {
     "name": "stdout",
     "output_type": "stream",
     "text": [
      "e^1 =tensor([2.7183])\n"
     ]
    }
   ],
   "source": [
    "print(f'e^1 ={torch.exp(torch.FloatTensor([1]))}')"
   ]
  },
  {
   "cell_type": "code",
   "execution_count": 9,
   "id": "938e914e",
   "metadata": {},
   "outputs": [],
   "source": [
    "w = torch.zeros((2, 1), requires_grad=True)\n",
    "b = torch.zeros(1, requires_grad=True)"
   ]
  },
  {
   "cell_type": "code",
   "execution_count": 12,
   "id": "0f587066",
   "metadata": {},
   "outputs": [],
   "source": [
    "hypothesis = 1 / (1 + torch.exp(-(x_train.matmul(w) + b)))"
   ]
  },
  {
   "cell_type": "code",
   "execution_count": 13,
   "id": "2a0de68c",
   "metadata": {},
   "outputs": [
    {
     "name": "stdout",
     "output_type": "stream",
     "text": [
      "tensor([[0.5000],\n",
      "        [0.5000],\n",
      "        [0.5000],\n",
      "        [0.5000],\n",
      "        [0.5000],\n",
      "        [0.5000]], grad_fn=<MulBackward0>)\n",
      "torch.Size([6, 1])\n"
     ]
    }
   ],
   "source": [
    "print(hypothesis)\n",
    "print(hypothesis.shape)"
   ]
  },
  {
   "cell_type": "code",
   "execution_count": 14,
   "id": "085f0372",
   "metadata": {},
   "outputs": [
    {
     "name": "stdout",
     "output_type": "stream",
     "text": [
      "1/(1+e^(-1))) = tensor([0.7311])\n"
     ]
    }
   ],
   "source": [
    "print(f'1/(1+e^(-1))) = {torch.sigmoid(torch.FloatTensor([1]))}')"
   ]
  },
  {
   "cell_type": "code",
   "execution_count": 16,
   "id": "4a21ac2b",
   "metadata": {},
   "outputs": [],
   "source": [
    "hypothesis = torch.sigmoid(x_train.matmul(w) + b)"
   ]
  },
  {
   "cell_type": "code",
   "execution_count": 17,
   "id": "1b8f896f",
   "metadata": {},
   "outputs": [
    {
     "name": "stdout",
     "output_type": "stream",
     "text": [
      "tensor([[0.5000],\n",
      "        [0.5000],\n",
      "        [0.5000],\n",
      "        [0.5000],\n",
      "        [0.5000],\n",
      "        [0.5000]], grad_fn=<SigmoidBackward0>)\n",
      "torch.Size([6, 1])\n"
     ]
    }
   ],
   "source": [
    "print(hypothesis)\n",
    "print(hypothesis.shape)"
   ]
  },
  {
   "cell_type": "markdown",
   "id": "7ccdc7dc",
   "metadata": {},
   "source": [
    "**Computing the Cost Function**\n",
    "\n",
    "We want to measure the difference between `hypothesis` and `y_train`."
   ]
  },
  {
   "cell_type": "code",
   "execution_count": 18,
   "id": "530f4325",
   "metadata": {},
   "outputs": [
    {
     "data": {
      "text/plain": [
       "tensor(0.6931, grad_fn=<BinaryCrossEntropyBackward0>)"
      ]
     },
     "execution_count": 18,
     "metadata": {},
     "output_type": "execute_result"
    }
   ],
   "source": [
    "F.binary_cross_entropy(hypothesis, y_train)"
   ]
  },
  {
   "cell_type": "markdown",
   "id": "bf3d155d",
   "metadata": {},
   "source": [
    "**Full Training Procedure**"
   ]
  },
  {
   "cell_type": "code",
   "execution_count": 23,
   "id": "ace09b38",
   "metadata": {},
   "outputs": [
    {
     "name": "stdout",
     "output_type": "stream",
     "text": [
      "Epoch 0/1000 Cost: 0.6931471824645996\n",
      "Epoch 100/1000 Cost: 0.134722039103508\n",
      "Epoch 200/1000 Cost: 0.08064313977956772\n",
      "Epoch 300/1000 Cost: 0.05790001526474953\n",
      "Epoch 400/1000 Cost: 0.0452997200191021\n",
      "Epoch 500/1000 Cost: 0.037260960787534714\n",
      "Epoch 600/1000 Cost: 0.03167249262332916\n",
      "Epoch 700/1000 Cost: 0.027555925771594048\n",
      "Epoch 800/1000 Cost: 0.024394338950514793\n",
      "Epoch 900/1000 Cost: 0.021888310089707375\n",
      "Epoch 1000/1000 Cost: 0.019852152094244957\n"
     ]
    }
   ],
   "source": [
    "# init model\n",
    "w = torch.zeros((2, 1), requires_grad=True)\n",
    "b = torch.zeros(1, requires_grad=True)\n",
    "\n",
    "# set optimizer\n",
    "optimizer = optim.SGD([w, b], lr=1)\n",
    "\n",
    "nb_epochs = 1000\n",
    "for epoch in range(nb_epochs + 1):\n",
    "    \n",
    "    # cost 계산\n",
    "    hypothesis = torch.sigmoid(x_train.matmul(w)+b)\n",
    "    cost = F.binary_cross_entropy(hypothesis, y_train)\n",
    "    \n",
    "    # cost로 H(x)개선\n",
    "    optimizer.zero_grad()\n",
    "    cost.backward()\n",
    "    optimizer.step()\n",
    "    \n",
    "    # 100번마다 로그 출력\n",
    "    if epoch % 100 == 0:\n",
    "        print(f'Epoch {epoch}/{nb_epochs} Cost: {cost.item()}')"
   ]
  },
  {
   "cell_type": "markdown",
   "id": "66ea52bb",
   "metadata": {},
   "source": [
    "**Evaluation**"
   ]
  },
  {
   "cell_type": "code",
   "execution_count": 24,
   "id": "191acc31",
   "metadata": {},
   "outputs": [
    {
     "name": "stdout",
     "output_type": "stream",
     "text": [
      "tensor([[2.7648e-04],\n",
      "        [3.1608e-02],\n",
      "        [3.8977e-02],\n",
      "        [9.5622e-01],\n",
      "        [9.9823e-01]], grad_fn=<SliceBackward0>)\n"
     ]
    }
   ],
   "source": [
    "hypothesis = torch.sigmoid(x_train.matmul(w) + b)\n",
    "print(hypothesis[:5])"
   ]
  },
  {
   "cell_type": "markdown",
   "id": "dd46a019",
   "metadata": {},
   "source": [
    "We can change **hypothesis** (real number from 0 to 1) to **Binary predictions** (either 0 or 1) by comparing them to 0.5."
   ]
  },
  {
   "cell_type": "code",
   "execution_count": 25,
   "id": "eb14dc0b",
   "metadata": {},
   "outputs": [
    {
     "name": "stdout",
     "output_type": "stream",
     "text": [
      "tensor([[False],\n",
      "        [False],\n",
      "        [False],\n",
      "        [ True],\n",
      "        [ True]])\n"
     ]
    }
   ],
   "source": [
    "prediction = hypothesis >= torch.FloatTensor([0.5])\n",
    "print(prediction[:5])"
   ]
  },
  {
   "cell_type": "code",
   "execution_count": 28,
   "id": "2462e7ad",
   "metadata": {},
   "outputs": [
    {
     "name": "stdout",
     "output_type": "stream",
     "text": [
      "tensor([[True],\n",
      "        [True],\n",
      "        [True],\n",
      "        [True],\n",
      "        [True]])\n"
     ]
    }
   ],
   "source": [
    "correct_prediction = prediction.float() == y_train\n",
    "print(correct_prediction[:5])"
   ]
  },
  {
   "cell_type": "markdown",
   "id": "4b02e90b",
   "metadata": {},
   "source": [
    "**Higher Implementation with Class**"
   ]
  },
  {
   "cell_type": "code",
   "execution_count": 47,
   "id": "fa77b022",
   "metadata": {},
   "outputs": [],
   "source": [
    "class BinaryClassifier(nn.Module):\n",
    "    def __init__(self):\n",
    "        super().__init__()\n",
    "        self.linear = nn.Linear(2, 1)\n",
    "        self.sigmoid = nn.Sigmoid()\n",
    "        \n",
    "    def forward(self, x):\n",
    "        return self.sigmoid(self.linear(x))"
   ]
  },
  {
   "cell_type": "code",
   "execution_count": 48,
   "id": "4ee605dc",
   "metadata": {},
   "outputs": [],
   "source": [
    "model = BinaryClassifier()"
   ]
  },
  {
   "cell_type": "code",
   "execution_count": 49,
   "id": "cd07e59f",
   "metadata": {},
   "outputs": [
    {
     "name": "stdout",
     "output_type": "stream",
     "text": [
      "Epoch 0/100 Accuracy: 50.0%\n",
      "Epoch 10/100 Accuracy: 83.33333333333334%\n",
      "Epoch 20/100 Accuracy: 83.33333333333334%\n",
      "Epoch 30/100 Accuracy: 83.33333333333334%\n",
      "Epoch 40/100 Accuracy: 83.33333333333334%\n",
      "Epoch 50/100 Accuracy: 83.33333333333334%\n",
      "Epoch 60/100 Accuracy: 83.33333333333334%\n",
      "Epoch 70/100 Accuracy: 83.33333333333334%\n",
      "Epoch 80/100 Accuracy: 100.0%\n",
      "Epoch 90/100 Accuracy: 100.0%\n",
      "Epoch 100/100 Accuracy: 100.0%\n"
     ]
    }
   ],
   "source": [
    "# set optimizer\n",
    "optimizer = optim.SGD(model.parameters(), lr=1)\n",
    "\n",
    "nb_epochs = 100\n",
    "for epoch in range(nb_epochs + 1):\n",
    "    \n",
    "    # cost 계산\n",
    "    hypothesis = model(x_train)\n",
    "    cost = F.binary_cross_entropy(hypothesis, y_train)\n",
    "    \n",
    "    # cost로 H(x)개선\n",
    "    optimizer.zero_grad()\n",
    "    cost.backward()\n",
    "    optimizer.step()\n",
    "    \n",
    "    # 100번마다 로그 출력\n",
    "    if epoch % 10 == 0:\n",
    "        \n",
    "        prediction = hypothesis >= torch.FloatTensor([0.5])\n",
    "        correct_prediction = prediction.float() == y_train\n",
    "        \n",
    "        accuracy = correct_prediction.sum().item() / len(correct_prediction)\n",
    "        \n",
    "        print(f'Epoch {epoch}/{nb_epochs} Accuracy: {accuracy*100}%')"
   ]
  }
 ],
 "metadata": {
  "kernelspec": {
   "display_name": "Python 3 (ipykernel)",
   "language": "python",
   "name": "python3"
  },
  "language_info": {
   "codemirror_mode": {
    "name": "ipython",
    "version": 3
   },
   "file_extension": ".py",
   "mimetype": "text/x-python",
   "name": "python",
   "nbconvert_exporter": "python",
   "pygments_lexer": "ipython3",
   "version": "3.8.10"
  }
 },
 "nbformat": 4,
 "nbformat_minor": 5
}
