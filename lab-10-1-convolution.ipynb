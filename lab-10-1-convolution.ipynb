{
 "cells": [
  {
   "cell_type": "markdown",
   "metadata": {},
   "source": [
    "# Lab 10-1. Convolution"
   ]
  },
  {
   "cell_type": "code",
   "execution_count": 4,
   "metadata": {},
   "outputs": [],
   "source": [
    "import torch\n",
    "import torch.nn as nn"
   ]
  },
  {
   "cell_type": "markdown",
   "metadata": {},
   "source": [
    "**Ouptut size of convolution**"
   ]
  },
  {
   "cell_type": "code",
   "execution_count": 3,
   "metadata": {},
   "outputs": [
    {
     "name": "stdout",
     "output_type": "stream",
     "text": [
      "ex 1)\n",
      "output image size = torch.Size([1, 1, 55, 55])\n",
      "ex 2)\n",
      "output image size = torch.Size([1, 1, 29, 29])\n",
      "ex 3)\n",
      "output image size = torch.Size([1, 1, 32, 32])\n",
      "ex 4)\n",
      "output image size = torch.Size([1, 1, 28, 60])\n",
      "ex 5)\n",
      "output image size = torch.Size([1, 1, 64, 32])\n"
     ]
    }
   ],
   "source": [
    "print('ex 1)')\n",
    "    # input image size = 227*227\n",
    "    # filter size = 11*11\n",
    "    # stride = 4\n",
    "    # padding = 0\n",
    "input_image_size = torch.Tensor(1, 1, 227, 227)\n",
    "conv = nn.Conv2d(1, 1, 11, stride=4, padding=0)\n",
    "print(f'output image size = {conv(input_image_size).shape}')\n",
    "\n",
    "print('ex 2)')\n",
    "    # input image size = 64*64\n",
    "    # filter size = 7*7\n",
    "    # stride = 2\n",
    "    # padding = 0\n",
    "input_image_size = torch.Tensor(1, 1, 64, 64)\n",
    "conv = nn.Conv2d(1, 1, 7, stride=2, padding=0)\n",
    "print(f'output image size = {conv(input_image_size).shape}')\n",
    "\n",
    "print('ex 3)')\n",
    "    # input image size = 32*32\n",
    "    # filter size = 5*5\n",
    "    # stride = 1\n",
    "    # padding = 2\n",
    "input_image_size = torch.Tensor(1, 1, 32, 32)\n",
    "conv = nn.Conv2d(1, 1, 5, stride=1, padding=2)\n",
    "print(f'output image size = {conv(input_image_size).shape}')\n",
    "\n",
    "print('ex 4)')\n",
    "    # input image size = 32*64\n",
    "    # filter size = 5*5\n",
    "    # stride = 1\n",
    "    # padding = 0\n",
    "input_image_size = torch.Tensor(1, 1, 32, 64)\n",
    "conv = nn.Conv2d(1, 1, 5, stride=1, padding=0)\n",
    "print(f'output image size = {conv(input_image_size).shape}')\n",
    "\n",
    "print('ex 5)')\n",
    "    # input image size = 64*32\n",
    "    # filter size = 3*3\n",
    "    # stride = 1\n",
    "    # padding = 1\n",
    "input_image_size = torch.Tensor(1, 1, 64, 32)\n",
    "conv = nn.Conv2d(1, 1, 3, stride=1, padding=1)\n",
    "print(f'output image size = {conv(input_image_size).shape}')"
   ]
  },
  {
   "cell_type": "markdown",
   "metadata": {},
   "source": [
    "**CNN implementation**"
   ]
  },
  {
   "cell_type": "code",
   "execution_count": 5,
   "metadata": {},
   "outputs": [],
   "source": [
    "inputs  = torch.Tensor(1, 1, 28, 28)\n",
    "conv1   = nn.Conv2d(1, 5, 5)\n",
    "pool    = nn.MaxPool2d(2)\n",
    "\n",
    "out  = conv1(inputs)\n",
    "out2 = pool(out)"
   ]
  },
  {
   "cell_type": "code",
   "execution_count": 6,
   "metadata": {},
   "outputs": [
    {
     "data": {
      "text/plain": [
       "torch.Size([1, 5, 24, 24])"
      ]
     },
     "execution_count": 6,
     "metadata": {},
     "output_type": "execute_result"
    }
   ],
   "source": [
    "out.size()"
   ]
  },
  {
   "cell_type": "code",
   "execution_count": 7,
   "metadata": {},
   "outputs": [
    {
     "data": {
      "text/plain": [
       "torch.Size([1, 5, 12, 12])"
      ]
     },
     "execution_count": 7,
     "metadata": {},
     "output_type": "execute_result"
    }
   ],
   "source": [
    "out2.size()"
   ]
  }
 ],
 "metadata": {
  "kernelspec": {
   "display_name": "Python 3.8.10 64-bit",
   "language": "python",
   "name": "python3"
  },
  "language_info": {
   "codemirror_mode": {
    "name": "ipython",
    "version": 3
   },
   "file_extension": ".py",
   "mimetype": "text/x-python",
   "name": "python",
   "nbconvert_exporter": "python",
   "pygments_lexer": "ipython3",
   "version": "3.8.10"
  },
  "orig_nbformat": 4,
  "vscode": {
   "interpreter": {
    "hash": "e7370f93d1d0cde622a1f8e1c04877d8463912d04d973331ad4851f04de6915a"
   }
  }
 },
 "nbformat": 4,
 "nbformat_minor": 2
}
