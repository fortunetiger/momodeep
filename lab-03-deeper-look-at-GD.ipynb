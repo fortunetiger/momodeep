{
 "cells": [
  {
   "cell_type": "markdown",
   "id": "af1408a6",
   "metadata": {},
   "source": [
    "# Lab 03. Deeper Look at GD"
   ]
  },
  {
   "cell_type": "code",
   "execution_count": 1,
   "id": "3b51c13f",
   "metadata": {},
   "outputs": [],
   "source": [
    "import numpy as np\n",
    "import torch"
   ]
  },
  {
   "cell_type": "markdown",
   "id": "a3115f7c",
   "metadata": {},
   "source": [
    "*Data*"
   ]
  },
  {
   "cell_type": "code",
   "execution_count": 7,
   "id": "240039b7",
   "metadata": {},
   "outputs": [],
   "source": [
    "x_train = torch.FloatTensor([[1.], [2.], [3.]])\n",
    "y_train = torch.FloatTensor([[1.], [2.], [3.]])"
   ]
  },
  {
   "cell_type": "markdown",
   "id": "8d9a0402",
   "metadata": {},
   "source": [
    "*Full Code*"
   ]
  },
  {
   "cell_type": "code",
   "execution_count": 8,
   "id": "c86d4540",
   "metadata": {},
   "outputs": [],
   "source": [
    "w = torch.zeros(1)\n",
    "lr = 0.1"
   ]
  },
  {
   "cell_type": "code",
   "execution_count": 10,
   "id": "8d9668fe",
   "metadata": {},
   "outputs": [
    {
     "name": "stdout",
     "output_type": "stream",
     "text": [
      "epoch 0/10 w: 1.0000419616699219, cost: 8.216981761677289e-09\n",
      "epoch 1/10 w: 0.9999831914901733, cost: 1.3224669137557044e-09\n",
      "epoch 2/10 w: 1.0000067949295044, cost: 2.1708974895506827e-10\n",
      "epoch 3/10 w: 0.9999972581863403, cost: 3.4432900974934455e-11\n",
      "epoch 4/10 w: 1.000001072883606, cost: 5.632235563352017e-12\n",
      "epoch 5/10 w: 0.9999995231628418, cost: 1.0610771159283439e-12\n",
      "epoch 6/10 w: 1.000000238418579, cost: 2.6526927898208597e-13\n",
      "epoch 7/10 w: 0.9999998807907104, cost: 9.947598300641403e-14\n",
      "epoch 8/10 w: 1.0000001192092896, cost: 9.947598300641403e-14\n",
      "epoch 9/10 w: 0.9999999403953552, cost: 2.4868995751603507e-14\n",
      "epoch 10/10 w: 1.0, cost: 0.0\n"
     ]
    }
   ],
   "source": [
    "nb_epoch = 10\n",
    "for epoch in range(nb_epoch+1):\n",
    "    \n",
    "    # H(x) 계산\n",
    "    hypothesis = x_train * w\n",
    "    \n",
    "    # cost gradient 계산\n",
    "    cost = torch.mean((hypothesis - y_train)**2)\n",
    "    gradient = torch.sum((w * x_train - y_train)* x_train)\n",
    "    \n",
    "    print(f'epoch {epoch}/{nb_epoch} w: {w.item()}, cost: {cost.item()}')\n",
    "    \n",
    "    w -= lr * gradient"
   ]
  },
  {
   "cell_type": "markdown",
   "id": "633ca61c",
   "metadata": {},
   "source": [
    "*Gradident Descent with `torch.optim`*"
   ]
  },
  {
   "cell_type": "code",
   "execution_count": 12,
   "id": "82120360",
   "metadata": {},
   "outputs": [
    {
     "name": "stdout",
     "output_type": "stream",
     "text": [
      "epoch 0/10 w: 0.0, cost: 4.666666507720947\n",
      "epoch 1/10 w: 1.4000000953674316, cost: 0.7466669678688049\n",
      "epoch 2/10 w: 0.8399999141693115, cost: 0.11946680396795273\n",
      "epoch 3/10 w: 1.0640000104904175, cost: 0.0191146582365036\n",
      "epoch 4/10 w: 0.9744000434875488, cost: 0.00305833644233644\n",
      "epoch 5/10 w: 1.0102399587631226, cost: 0.0004893290461041033\n",
      "epoch 6/10 w: 0.9959040284156799, cost: 7.829209789633751e-05\n",
      "epoch 7/10 w: 1.001638412475586, cost: 1.2527179023891222e-05\n",
      "epoch 8/10 w: 0.9993446469306946, cost: 2.0041973129991675e-06\n",
      "epoch 9/10 w: 1.0002621412277222, cost: 3.206215808404522e-07\n",
      "epoch 10/10 w: 0.9998951554298401, cost: 5.128529423359396e-08\n"
     ]
    }
   ],
   "source": [
    "import torch.optim as optim\n",
    "w = torch.zeros(1, requires_grad=True)\n",
    "optimizer = optim.SGD([w], lr=0.15)\n",
    "\n",
    "nb_epoch = 10\n",
    "for epoch in range(nb_epoch+1):\n",
    "    \n",
    "    # H(x) 계산\n",
    "    hypothesis = x_train * w\n",
    "    \n",
    "    # cost gradient 계산\n",
    "    cost = torch.mean((hypothesis - y_train)**2)\n",
    "    gradient = torch.sum((w * x_train - y_train)* x_train)\n",
    "    \n",
    "    print(f'epoch {epoch}/{nb_epoch} w: {w.item()}, cost: {cost.item()}')\n",
    "    \n",
    "    # cost로 H(x)개선\n",
    "    optimizer.zero_grad()\n",
    "    cost.backward()\n",
    "    optimizer.step()"
   ]
  }
 ],
 "metadata": {
  "kernelspec": {
   "display_name": "Python 3 (ipykernel)",
   "language": "python",
   "name": "python3"
  },
  "language_info": {
   "codemirror_mode": {
    "name": "ipython",
    "version": 3
   },
   "file_extension": ".py",
   "mimetype": "text/x-python",
   "name": "python",
   "nbconvert_exporter": "python",
   "pygments_lexer": "ipython3",
   "version": "3.8.10"
  }
 },
 "nbformat": 4,
 "nbformat_minor": 5
}
