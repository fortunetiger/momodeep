{
 "cells": [
  {
   "cell_type": "markdown",
   "id": "b22b03f2",
   "metadata": {},
   "source": [
    "**1D Array with Numpy**"
   ]
  },
  {
   "cell_type": "code",
   "execution_count": 2,
   "id": "d710008d",
   "metadata": {},
   "outputs": [],
   "source": [
    "import numpy as np"
   ]
  },
  {
   "cell_type": "code",
   "execution_count": 6,
   "id": "7f04edd7",
   "metadata": {},
   "outputs": [
    {
     "name": "stdout",
     "output_type": "stream",
     "text": [
      "[0. 1. 2. 3. 4. 5. 6.]\n"
     ]
    }
   ],
   "source": [
    "t = np.array([0., 1., 2., 3., 4., 5., 6.])\n",
    "print(t)"
   ]
  },
  {
   "cell_type": "code",
   "execution_count": 8,
   "id": "2d7dc7ac",
   "metadata": {},
   "outputs": [
    {
     "name": "stdout",
     "output_type": "stream",
     "text": [
      "Rank  of t: 1\n",
      "Shape of t: (7,)\n"
     ]
    }
   ],
   "source": [
    "print(f'Rank  of t: {t.ndim}')\n",
    "print(f'Shape of t: {t.shape}')"
   ]
  },
  {
   "cell_type": "code",
   "execution_count": 10,
   "id": "dcddcf1e",
   "metadata": {},
   "outputs": [
    {
     "name": "stdout",
     "output_type": "stream",
     "text": [
      "t[0] t[1] t[-1] = 0.0 1.0 6.0\n",
      "t[2:5] t[4:-1]  = [2. 3. 4.] [4. 5.]\n",
      "t[:2] t[:3]     = [0. 1.] [3. 4. 5. 6.]\n"
     ]
    }
   ],
   "source": [
    "print(f't[0] t[1] t[-1] = {t[0]} {t[1]} {t[-1]}')    # Element\n",
    "print(f't[2:5] t[4:-1]  = {t[2:5]} {t[4:-1]}')       # Slicing\n",
    "print(f't[:2] t[:3]     = {t[:2]} {t[3:]}')          # Slicing"
   ]
  },
  {
   "cell_type": "markdown",
   "id": "74094816",
   "metadata": {},
   "source": [
    "**2D Array with Numpy**"
   ]
  },
  {
   "cell_type": "code",
   "execution_count": 13,
   "id": "2f02ed70",
   "metadata": {},
   "outputs": [
    {
     "name": "stdout",
     "output_type": "stream",
     "text": [
      "[[ 1.  2.  3.]\n",
      " [ 4.  5.  6.]\n",
      " [ 7.  8.  9.]\n",
      " [10. 11. 12.]]\n"
     ]
    }
   ],
   "source": [
    "t = np.array([[1., 2., 3.],\n",
    "              [4., 5., 6.],\n",
    "              [7., 8., 9.],\n",
    "              [10., 11., 12.]\n",
    "             ])\n",
    "print(t)"
   ]
  },
  {
   "cell_type": "code",
   "execution_count": 15,
   "id": "bbf3999f",
   "metadata": {},
   "outputs": [
    {
     "name": "stdout",
     "output_type": "stream",
     "text": [
      "Rank  of t: 2\n",
      "Shape of t: (4, 3)\n"
     ]
    }
   ],
   "source": [
    "print(f'Rank  of t: {t.ndim}')\n",
    "print(f'Shape of t: {t.shape}')"
   ]
  },
  {
   "cell_type": "markdown",
   "id": "f728063d",
   "metadata": {},
   "source": [
    "**1D Array with PyTorch**"
   ]
  },
  {
   "cell_type": "code",
   "execution_count": 17,
   "id": "9adac8f1",
   "metadata": {},
   "outputs": [],
   "source": [
    "import torch"
   ]
  },
  {
   "cell_type": "code",
   "execution_count": 19,
   "id": "c6e6a03f",
   "metadata": {},
   "outputs": [
    {
     "name": "stdout",
     "output_type": "stream",
     "text": [
      "tensor([0., 1., 2., 3., 4., 5., 6.])\n"
     ]
    }
   ],
   "source": [
    "t = torch.FloatTensor([0., 1., 2., 3., 4., 5., 6.])\n",
    "print(t)"
   ]
  },
  {
   "cell_type": "code",
   "execution_count": 23,
   "id": "3ae2644d",
   "metadata": {},
   "outputs": [
    {
     "name": "stdout",
     "output_type": "stream",
     "text": [
      "1\n",
      "torch.Size([7])\n",
      "torch.Size([7])\n",
      "tensor(0.) tensor(1.) tensor(6.)\n",
      "tensor([2., 3., 4.]) tensor([4., 5.])\n",
      "tensor([0., 1.]) tensor([3., 4., 5., 6.])\n"
     ]
    }
   ],
   "source": [
    "print(t.dim())    # Rank\n",
    "print(t.shape)    # Shape\n",
    "print(t.size())   # Shape\n",
    "\n",
    "print(t[0], t[1], t[-1])    # Elements\n",
    "print(t[2:5], t[4:-1])      # Slicing\n",
    "print(t[:2], t[3:])         # Slicing"
   ]
  },
  {
   "cell_type": "markdown",
   "id": "bfad05d3",
   "metadata": {},
   "source": [
    "**2D Array with Pytorch**"
   ]
  },
  {
   "cell_type": "code",
   "execution_count": 26,
   "id": "a1bb3796",
   "metadata": {},
   "outputs": [
    {
     "name": "stdout",
     "output_type": "stream",
     "text": [
      "tensor([[ 1.,  2.,  3.],\n",
      "        [ 4.,  5.,  6.],\n",
      "        [ 7.,  8.,  9.],\n",
      "        [10., 11., 12.]])\n"
     ]
    }
   ],
   "source": [
    "t = torch.FloatTensor([[1., 2., 3.],\n",
    "                       [4., 5., 6.],\n",
    "                       [7., 8., 9.],\n",
    "                       [10., 11., 12.]\n",
    "                      ])\n",
    "print(t)"
   ]
  },
  {
   "cell_type": "code",
   "execution_count": null,
   "id": "1b65932e",
   "metadata": {},
   "outputs": [],
   "source": [
    "print(t.dim())    # Rank\n",
    "print(t.shape)    # Shape\n",
    "print(t[:, 1])\n",
    "print(t[:, 1].size())\n",
    "print(t[:, :-1])\n"
   ]
  }
 ],
 "metadata": {
  "kernelspec": {
   "display_name": "Python 3 (ipykernel)",
   "language": "python",
   "name": "python3"
  },
  "language_info": {
   "codemirror_mode": {
    "name": "ipython",
    "version": 3
   },
   "file_extension": ".py",
   "mimetype": "text/x-python",
   "name": "python",
   "nbconvert_exporter": "python",
   "pygments_lexer": "ipython3",
   "version": "3.8.10"
  }
 },
 "nbformat": 4,
 "nbformat_minor": 5
}
