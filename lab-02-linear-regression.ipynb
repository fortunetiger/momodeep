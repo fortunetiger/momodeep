{
 "cells": [
  {
   "cell_type": "markdown",
   "id": "7e84ad62",
   "metadata": {},
   "source": [
    "**Lab-02. Linear Regression**"
   ]
  },
  {
   "cell_type": "code",
   "execution_count": 2,
   "id": "bd5a2958",
   "metadata": {},
   "outputs": [],
   "source": [
    "import numpy as np\n",
    "import torch"
   ]
  },
  {
   "cell_type": "markdown",
   "id": "250b8918",
   "metadata": {},
   "source": [
    "*Data definition*"
   ]
  },
  {
   "cell_type": "code",
   "execution_count": 3,
   "id": "b7d51d10",
   "metadata": {},
   "outputs": [],
   "source": [
    "x_train = torch.FloatTensor([[1.], [2.], [3.]])\n",
    "y_train = torch.FloatTensor([[2.], [4.], [6.]])"
   ]
  },
  {
   "cell_type": "code",
   "execution_count": 4,
   "id": "8348780c",
   "metadata": {},
   "outputs": [],
   "source": [
    "w = torch.zeros(1, requires_grad=True)\n",
    "b = torch.zeros(1, requires_grad=True)\n",
    "\n",
    "hypothesis = x_train * w + b"
   ]
  },
  {
   "cell_type": "code",
   "execution_count": 8,
   "id": "bce53cf0",
   "metadata": {},
   "outputs": [],
   "source": [
    "cost = torch.mean((hypothesis - y_train)**2)"
   ]
  },
  {
   "cell_type": "code",
   "execution_count": 12,
   "id": "95406e4e",
   "metadata": {},
   "outputs": [],
   "source": [
    "import torch.optim as optim\n",
    "optimizer = optim.SGD([w, b], lr=0.01)\n",
    "\n",
    "optimizer.zero_grad()\n",
    "cost.backward()\n",
    "optimizer.step()"
   ]
  },
  {
   "cell_type": "markdown",
   "id": "d13bb006",
   "metadata": {},
   "source": [
    "*Full training code*"
   ]
  },
  {
   "cell_type": "code",
   "execution_count": 13,
   "id": "a3595358",
   "metadata": {},
   "outputs": [],
   "source": [
    "x_train = torch.FloatTensor([[1.], [2.], [3.]])\n",
    "y_train = torch.FloatTensor([[2.], [4.], [6.]])\n",
    "\n",
    "w = torch.zeros(1, requires_grad=True)\n",
    "b = torch.zeros(1, requires_grad=True)\n",
    "\n",
    "optimizer = optim.SGD([w, b], lr=0.01)\n",
    "\n",
    "nb_epochs = 1000\n",
    "for epoch in range(1, nb_epochs + 1):\n",
    "    hypothesis = x_train * w + b\n",
    "    cost = torch.mean((hypothesis - y_train)**2)\n",
    "    \n",
    "    optimizer.zero_grad()\n",
    "    cost.backward()\n",
    "    optimizer.step()"
   ]
  }
 ],
 "metadata": {
  "kernelspec": {
   "display_name": "Python 3.8.10 64-bit",
   "language": "python",
   "name": "python3"
  },
  "language_info": {
   "codemirror_mode": {
    "name": "ipython",
    "version": 3
   },
   "file_extension": ".py",
   "mimetype": "text/x-python",
   "name": "python",
   "nbconvert_exporter": "python",
   "pygments_lexer": "ipython3",
   "version": "3.8.10"
  },
  "vscode": {
   "interpreter": {
    "hash": "e7370f93d1d0cde622a1f8e1c04877d8463912d04d973331ad4851f04de6915a"
   }
  }
 },
 "nbformat": 4,
 "nbformat_minor": 5
}
