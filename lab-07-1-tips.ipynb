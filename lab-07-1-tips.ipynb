{
 "cells": [
  {
   "cell_type": "markdown",
   "id": "234c2c60",
   "metadata": {},
   "source": [
    "# Lab 07-1. Tips"
   ]
  },
  {
   "cell_type": "markdown",
   "id": "7ad34b12",
   "metadata": {},
   "source": [
    "**Import**"
   ]
  },
  {
   "cell_type": "code",
   "execution_count": 2,
   "id": "12856c02",
   "metadata": {},
   "outputs": [],
   "source": [
    "import torch\n",
    "import torch.nn as nn\n",
    "import torch.nn.functional as F\n",
    "import torch.optim as optim"
   ]
  },
  {
   "cell_type": "code",
   "execution_count": 3,
   "id": "1ff5da71",
   "metadata": {},
   "outputs": [
    {
     "data": {
      "text/plain": [
       "<torch._C.Generator at 0x7f71881c1bb0>"
      ]
     },
     "execution_count": 3,
     "metadata": {},
     "output_type": "execute_result"
    }
   ],
   "source": [
    "# for reproducibility\n",
    "torch.manual_seed(1)"
   ]
  },
  {
   "cell_type": "markdown",
   "id": "29a25a2f",
   "metadata": {},
   "source": [
    "**Training and Test Dataset**"
   ]
  },
  {
   "cell_type": "code",
   "execution_count": 4,
   "id": "1f877c74",
   "metadata": {},
   "outputs": [],
   "source": [
    "x_train = torch.FloatTensor([[1, 2, 1],\n",
    "                             [1, 3, 2],\n",
    "                             [1, 3, 4],\n",
    "                             [1, 5, 5],\n",
    "                             [1, 7, 5],\n",
    "                             [1, 2, 5],\n",
    "                             [1, 6, 6],\n",
    "                             [1, 7, 7]\n",
    "                            ])\n",
    "y_train = torch.LongTensor([2, 2, 2, 1, 1, 1, 0, 0])"
   ]
  },
  {
   "cell_type": "code",
   "execution_count": 5,
   "id": "5ac305b7",
   "metadata": {},
   "outputs": [],
   "source": [
    "x_test = torch.FloatTensor([[2, 1, 1,], [3, 1, 2], [3, 3, 4]])\n",
    "y_test = torch.LongTensor([2, 2, 2])"
   ]
  },
  {
   "cell_type": "markdown",
   "id": "04322816",
   "metadata": {},
   "source": [
    "**Model**"
   ]
  },
  {
   "cell_type": "code",
   "execution_count": 7,
   "id": "ae44f2da",
   "metadata": {},
   "outputs": [],
   "source": [
    "class SoftmaxClassifierModel(nn.Module):\n",
    "    \n",
    "    def __init__(self):\n",
    "        super().__init__()\n",
    "        self.linear = nn.Linear(3, 3)\n",
    "        \n",
    "    def forward(self, x):\n",
    "        return self.linear(x)"
   ]
  },
  {
   "cell_type": "code",
   "execution_count": 8,
   "id": "d8c1601f",
   "metadata": {},
   "outputs": [],
   "source": [
    "model = SoftmaxClassifierModel()"
   ]
  },
  {
   "cell_type": "code",
   "execution_count": 12,
   "id": "bf476163",
   "metadata": {},
   "outputs": [],
   "source": [
    "# set optimizer\n",
    "optimizer = optim.SGD(model.parameters(), lr=0.1)"
   ]
  },
  {
   "cell_type": "code",
   "execution_count": 27,
   "id": "8f16ef98",
   "metadata": {},
   "outputs": [],
   "source": [
    "def train(model, optimizer, x_train, y_train):\n",
    "    nb_epochs = 1000\n",
    "    for epoch in range(nb_epochs + 1):\n",
    "    \n",
    "        # H(x) 계산\n",
    "        prediction = model(x_train)\n",
    "    \n",
    "        # cost 계산\n",
    "        cost = F.cross_entropy(prediction, y_train)\n",
    "    \n",
    "        # cost로 H(x) 개선\n",
    "        optimizer.zero_grad()\n",
    "        cost.backward()\n",
    "        optimizer.step()\n",
    "    \n",
    "        # 100번마다 로그 출력\n",
    "        if epoch % 100 == 0:\n",
    "            print(f'Epoch {epoch:4d}/{nb_epochs}  Cost:{cost.item()}')"
   ]
  },
  {
   "cell_type": "code",
   "execution_count": 15,
   "id": "f6688232",
   "metadata": {},
   "outputs": [],
   "source": [
    "def test(model, optimizer, x_test, y_test):\n",
    "    prediction = model(x_test)\n",
    "    predicted_classes = prediction.max(1)[1]\n",
    "    correct_count = (predicted_classes == y_test).sum().item()\n",
    "    cost = F.cross_entropy(prediction, y_test)\n",
    "    \n",
    "    print(f'Accuracy: {correct_count/len(y_test)*100}%  Cost: {cost.item():.6f}')"
   ]
  },
  {
   "cell_type": "code",
   "execution_count": 16,
   "id": "50a90428",
   "metadata": {},
   "outputs": [
    {
     "name": "stdout",
     "output_type": "stream",
     "text": [
      "Epoch    0/1000  Cost:2.2036666870117188\n",
      "Epoch  100/1000  Cost:0.7206239104270935\n",
      "Epoch  200/1000  Cost:0.6050705909729004\n",
      "Epoch  300/1000  Cost:0.5438463091850281\n",
      "Epoch  400/1000  Cost:0.5014598369598389\n",
      "Epoch  500/1000  Cost:0.4686412811279297\n",
      "Epoch  600/1000  Cost:0.4417983889579773\n",
      "Epoch  700/1000  Cost:0.4191378951072693\n",
      "Epoch  800/1000  Cost:0.399603933095932\n",
      "Epoch  900/1000  Cost:0.38250550627708435\n",
      "Epoch 1000/1000  Cost:0.3673577904701233\n"
     ]
    }
   ],
   "source": [
    "train(model, optimizer, x_train, y_train)"
   ]
  },
  {
   "cell_type": "code",
   "execution_count": 17,
   "id": "4a2674af",
   "metadata": {},
   "outputs": [
    {
     "name": "stdout",
     "output_type": "stream",
     "text": [
      "Accuracy: 100.0%  Cost: 0.000766\n"
     ]
    }
   ],
   "source": [
    "test(model, optimizer, x_test, y_test)"
   ]
  },
  {
   "cell_type": "markdown",
   "id": "63b7d975",
   "metadata": {},
   "source": [
    "**Learning Rate**\n",
    "\n",
    "Learnig rate가 너무 크면 diverge하면서 cost가 점점 늘어난다(overshooting)."
   ]
  },
  {
   "cell_type": "code",
   "execution_count": 18,
   "id": "c7ccc9f8",
   "metadata": {},
   "outputs": [],
   "source": [
    "model = SoftmaxClassifierModel()"
   ]
  },
  {
   "cell_type": "code",
   "execution_count": 19,
   "id": "9f1a443a",
   "metadata": {},
   "outputs": [],
   "source": [
    "optimizer = optim.SGD(model.parameters(), lr=1e5)"
   ]
  },
  {
   "cell_type": "code",
   "execution_count": 20,
   "id": "df529049",
   "metadata": {},
   "outputs": [
    {
     "name": "stdout",
     "output_type": "stream",
     "text": [
      "Epoch    0/1000  Cost:1.280267596244812\n",
      "Epoch  100/1000  Cost:896298.75\n",
      "Epoch  200/1000  Cost:43079.6328125\n",
      "Epoch  300/1000  Cost:416148.0625\n",
      "Epoch  400/1000  Cost:679853.875\n",
      "Epoch  500/1000  Cost:392802.09375\n",
      "Epoch  600/1000  Cost:0.0\n",
      "Epoch  700/1000  Cost:0.0\n",
      "Epoch  800/1000  Cost:0.0\n",
      "Epoch  900/1000  Cost:0.0\n",
      "Epoch 1000/1000  Cost:0.0\n"
     ]
    }
   ],
   "source": [
    "train(model, optimizer, x_train, y_train)"
   ]
  },
  {
   "cell_type": "markdown",
   "id": "3f1ce464",
   "metadata": {},
   "source": [
    "Learning rate가 너무 작으면 cost가 거의 줄어들지 않는다."
   ]
  },
  {
   "cell_type": "code",
   "execution_count": 21,
   "id": "44b6c2b8",
   "metadata": {},
   "outputs": [],
   "source": [
    "model = SoftmaxClassifierModel()"
   ]
  },
  {
   "cell_type": "code",
   "execution_count": 22,
   "id": "8a82aafa",
   "metadata": {},
   "outputs": [],
   "source": [
    "optimizer = optim.SGD(model.parameters(), lr=1e-10)"
   ]
  },
  {
   "cell_type": "code",
   "execution_count": 23,
   "id": "584d151b",
   "metadata": {},
   "outputs": [
    {
     "name": "stdout",
     "output_type": "stream",
     "text": [
      "Epoch    0/1000  Cost:3.187324047088623\n",
      "Epoch  100/1000  Cost:3.187324047088623\n",
      "Epoch  200/1000  Cost:3.187324047088623\n",
      "Epoch  300/1000  Cost:3.187324047088623\n",
      "Epoch  400/1000  Cost:3.187324047088623\n",
      "Epoch  500/1000  Cost:3.187324047088623\n",
      "Epoch  600/1000  Cost:3.187324047088623\n",
      "Epoch  700/1000  Cost:3.187324047088623\n",
      "Epoch  800/1000  Cost:3.187324047088623\n",
      "Epoch  900/1000  Cost:3.187324047088623\n",
      "Epoch 1000/1000  Cost:3.187324047088623\n"
     ]
    }
   ],
   "source": [
    "train(model, optimizer, x_train, y_train)"
   ]
  },
  {
   "cell_type": "markdown",
   "id": "ebdbd6f9",
   "metadata": {},
   "source": [
    "적절한 값으로 시작해 발산하면 작게, cost가 줄어들지 않으면 크게 조정하자."
   ]
  },
  {
   "cell_type": "code",
   "execution_count": 24,
   "id": "7fa6d2ab",
   "metadata": {},
   "outputs": [],
   "source": [
    "model = SoftmaxClassifierModel()"
   ]
  },
  {
   "cell_type": "code",
   "execution_count": 25,
   "id": "564f1931",
   "metadata": {},
   "outputs": [],
   "source": [
    "optimizer = optim.SGD(model.parameters(), lr=1e-1)"
   ]
  },
  {
   "cell_type": "code",
   "execution_count": 26,
   "id": "e997a6e4",
   "metadata": {},
   "outputs": [
    {
     "name": "stdout",
     "output_type": "stream",
     "text": [
      "Epoch    0/1000  Cost:1.3415735960006714\n",
      "Epoch  100/1000  Cost:0.7052574753761292\n",
      "Epoch  200/1000  Cost:0.6028958559036255\n",
      "Epoch  300/1000  Cost:0.5442282557487488\n",
      "Epoch  400/1000  Cost:0.5023800730705261\n",
      "Epoch  500/1000  Cost:0.4696085751056671\n",
      "Epoch  600/1000  Cost:0.4426855146884918\n",
      "Epoch  700/1000  Cost:0.4199199080467224\n",
      "Epoch  800/1000  Cost:0.4002859592437744\n",
      "Epoch  900/1000  Cost:0.3831004500389099\n",
      "Epoch 1000/1000  Cost:0.36787909269332886\n"
     ]
    }
   ],
   "source": [
    "train(model, optimizer, x_train, y_train)"
   ]
  },
  {
   "cell_type": "markdown",
   "id": "94b19f89",
   "metadata": {},
   "source": [
    "**Data Preprocessing**"
   ]
  },
  {
   "cell_type": "code",
   "execution_count": 4,
   "id": "272d4875",
   "metadata": {},
   "outputs": [],
   "source": [
    "x_train = torch.FloatTensor([[73, 80, 75],\n",
    "                             [93, 88, 93],\n",
    "                             [89, 91, 90],\n",
    "                             [96, 98, 100],\n",
    "                             [73, 66, 70]])\n",
    "y_train = torch.FloatTensor([[152], [185], [180], [196], [142]])"
   ]
  },
  {
   "cell_type": "markdown",
   "id": "d95f3dea",
   "metadata": {},
   "source": [
    "**Stantardization**"
   ]
  },
  {
   "cell_type": "code",
   "execution_count": 5,
   "id": "a811028e",
   "metadata": {},
   "outputs": [],
   "source": [
    "mu = x_train.mean(dim=0)"
   ]
  },
  {
   "cell_type": "code",
   "execution_count": 6,
   "id": "c1bef3a1",
   "metadata": {},
   "outputs": [],
   "source": [
    "sigma = x_train.std(dim=0)"
   ]
  },
  {
   "cell_type": "code",
   "execution_count": 7,
   "id": "db92cddb",
   "metadata": {},
   "outputs": [],
   "source": [
    "norm_x_train = (x_train - mu) / sigma"
   ]
  },
  {
   "cell_type": "code",
   "execution_count": 8,
   "id": "ad5dc4f2",
   "metadata": {},
   "outputs": [
    {
     "name": "stdout",
     "output_type": "stream",
     "text": [
      "tensor([[-1.0674, -0.3758, -0.8398],\n",
      "        [ 0.7418,  0.2778,  0.5863],\n",
      "        [ 0.3799,  0.5229,  0.3486],\n",
      "        [ 1.0132,  1.0948,  1.1409],\n",
      "        [-1.0674, -1.5197, -1.2360]])\n"
     ]
    }
   ],
   "source": [
    "print(norm_x_train)"
   ]
  },
  {
   "cell_type": "markdown",
   "id": "ff2ff883",
   "metadata": {},
   "source": [
    "**Training with Preprocessed Data**"
   ]
  },
  {
   "cell_type": "code",
   "execution_count": 9,
   "id": "c4dc7173",
   "metadata": {},
   "outputs": [],
   "source": [
    "class MultivariateLinearRegressionModel(nn.Module):\n",
    "    def __init__(self):\n",
    "        super().__init__()\n",
    "        self.linear = nn.Linear(3, 1)\n",
    "        \n",
    "    def forward(self, x):\n",
    "        return self.linear(x)"
   ]
  },
  {
   "cell_type": "code",
   "execution_count": 10,
   "id": "17c849cd",
   "metadata": {},
   "outputs": [],
   "source": [
    "model = MultivariateLinearRegressionModel()"
   ]
  },
  {
   "cell_type": "code",
   "execution_count": 11,
   "id": "bf8a8050",
   "metadata": {},
   "outputs": [],
   "source": [
    "optimizer = optim.SGD(model.parameters(), lr=1e-1)"
   ]
  },
  {
   "cell_type": "code",
   "execution_count": 12,
   "id": "1bc4c0bd",
   "metadata": {},
   "outputs": [],
   "source": [
    "def train(model, optimizer, x_train, y_train):\n",
    "    nb_epochs = 20\n",
    "    for epoch in range(nb_epochs):\n",
    "    \n",
    "        # H(x) 계산\n",
    "        prediction = model(x_train)\n",
    "    \n",
    "        # cost 계산\n",
    "        cost = F.mse_loss(prediction, y_train)\n",
    "    \n",
    "        # cost로 H(x) 개선\n",
    "        optimizer.zero_grad()\n",
    "        cost.backward()\n",
    "        optimizer.step()\n",
    "    \n",
    "        print(f'Epoch {epoch:4d}/{nb_epochs}  Cost:{cost.item():.6f}')"
   ]
  },
  {
   "cell_type": "code",
   "execution_count": 13,
   "id": "527c37b7",
   "metadata": {
    "scrolled": true
   },
   "outputs": [
    {
     "name": "stdout",
     "output_type": "stream",
     "text": [
      "Epoch    0/20  Cost:29571.447266\n",
      "Epoch    1/20  Cost:18778.611328\n",
      "Epoch    2/20  Cost:11975.652344\n",
      "Epoch    3/20  Cost:7652.159180\n",
      "Epoch    4/20  Cost:4893.968262\n",
      "Epoch    5/20  Cost:3131.294678\n",
      "Epoch    6/20  Cost:2003.926514\n",
      "Epoch    7/20  Cost:1282.623657\n",
      "Epoch    8/20  Cost:821.047241\n",
      "Epoch    9/20  Cost:525.650452\n",
      "Epoch   10/20  Cost:336.596588\n",
      "Epoch   11/20  Cost:215.597992\n",
      "Epoch   12/20  Cost:138.154205\n",
      "Epoch   13/20  Cost:88.585411\n",
      "Epoch   14/20  Cost:56.856556\n",
      "Epoch   15/20  Cost:36.545559\n",
      "Epoch   16/20  Cost:23.541969\n",
      "Epoch   17/20  Cost:15.215319\n",
      "Epoch   18/20  Cost:9.882189\n",
      "Epoch   19/20  Cost:6.464985\n"
     ]
    }
   ],
   "source": [
    "train(model, optimizer, norm_x_train, y_train)"
   ]
  }
 ],
 "metadata": {
  "kernelspec": {
   "display_name": "Python 3 (ipykernel)",
   "language": "python",
   "name": "python3"
  },
  "language_info": {
   "codemirror_mode": {
    "name": "ipython",
    "version": 3
   },
   "file_extension": ".py",
   "mimetype": "text/x-python",
   "name": "python",
   "nbconvert_exporter": "python",
   "pygments_lexer": "ipython3",
   "version": "3.8.10"
  }
 },
 "nbformat": 4,
 "nbformat_minor": 5
}
